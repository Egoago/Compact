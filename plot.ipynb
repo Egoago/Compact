{
  "nbformat": 4,
  "nbformat_minor": 0,
  "metadata": {
    "colab": {
      "name": "plot.ipynb",
      "provenance": [],
      "collapsed_sections": [],
      "authorship_tag": "ABX9TyMEJ/DeXGUoEi52yoLvUczp",
      "include_colab_link": true
    },
    "kernelspec": {
      "name": "python3",
      "display_name": "Python 3"
    },
    "language_info": {
      "name": "python"
    }
  },
  "cells": [
    {
      "cell_type": "markdown",
      "metadata": {
        "id": "view-in-github",
        "colab_type": "text"
      },
      "source": [
        "<a href=\"https://colab.research.google.com/github/Egoago/Compact/blob/master/plot.ipynb\" target=\"_parent\"><img src=\"https://colab.research.google.com/assets/colab-badge.svg\" alt=\"Open In Colab\"/></a>"
      ]
    },
    {
      "cell_type": "code",
      "metadata": {
        "colab": {
          "base_uri": "https://localhost:8080/",
          "height": 271
        },
        "id": "Q4jF5eVQyWbu",
        "outputId": "e6374f9a-9cb1-4f49-8db1-ef37c937c77a"
      },
      "source": [
        "import matplotlib.pyplot as plt\n",
        "import numpy as np\n",
        "import pandas as pd\n",
        "\n",
        "size = np.array([\n",
        "  1,\n",
        "  2,\n",
        "  4,\n",
        "  10,\n",
        "  21,\n",
        "  46,\n",
        "  100,\n",
        "  215,\n",
        "  464,\n",
        "  1000,\n",
        "  2154,\n",
        "  4641,\n",
        "  10000,\n",
        "  21544,\n",
        "  46415,\n",
        "  100000,\n",
        "  215443,\n",
        "  464158,\n",
        "  1000000,\n",
        "  2154435,\n",
        "  4641587,\n",
        "  10000000,\n",
        "  21544354,\n",
        "  46415872,\n",
        "  100000000,\n",
        "  215443312,\n",
        "  464159232])\n",
        "cpu = np.array([\n",
        "  0.000,\n",
        "0.000,\n",
        "0.000,\n",
        "0.013,\n",
        "0.014,\n",
        "0.000,\n",
        "0.016,\n",
        "0.018,\n",
        "0.020,\n",
        "0.022,\n",
        "0.050,\n",
        "0.028,\n",
        "0.129,\n",
        "0.370,\n",
        "0.917,\n",
        "1.850,\n",
        "4.588,\n",
        "7.071,\n",
        "17.333,\n",
        "36.444,\n",
        "77.571,\n",
        "158.2,\n",
        "319.5,\n",
        "680.0,\n",
        "1455.0,\n",
        "3316.0,\n",
        "6966.0])\n",
        "\n",
        "gpu = np.array([\n",
        "0.262,\n",
        "0.284,\n",
        "0.341,\n",
        "0.364,\n",
        "0.377,\n",
        "0.300,\n",
        "0.383,\n",
        "0.355,\n",
        "0.313,\n",
        "0.337,\n",
        "0.268,\n",
        "0.253,\n",
        "0.279,\n",
        "0.371,\n",
        "0.402,\n",
        "0.576,\n",
        "0.903,\n",
        "1.343,\n",
        "1.939,\n",
        "3.559,\n",
        "6.203,\n",
        "11.418,\n",
        "25.543,\n",
        "54.146,\n",
        "117.235,\n",
        "256.254,\n",
        "518.878])\n",
        "\n",
        "\n",
        "\n",
        "df=pd.DataFrame({'size': size, 'cpu': cpu, 'gpu': gpu})\n",
        "\n",
        "plt.plot( 'size', 'cpu', data=df, marker='o', markerfacecolor='blue', markersize=5, color='skyblue', linewidth=2)\n",
        "plt.plot( 'size', 'gpu', data=df, marker='+', markerfacecolor='green', markersize=5, color='green', linewidth=2)\n",
        "plt.legend()\n",
        "plt.xscale('log')\n",
        "plt.yscale('log')\n",
        "\n",
        "plt.show()"
      ],
      "execution_count": 8,
      "outputs": [
        {
          "output_type": "display_data",
          "data": {
            "image/png": "[encoded data removed]",
            "text/plain": [
              "<Figure size 432x288 with 1 Axes>"
            ]
          },
          "metadata": {
            "tags": [],
            "needs_background": "light"
          }
        }
      ]
    }
  ]
}